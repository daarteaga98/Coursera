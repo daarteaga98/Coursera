{
 "cells": [
  {
   "cell_type": "markdown",
   "id": "47c214eb-dcd9-49fe-a841-451ac0d26b95",
   "metadata": {},
   "source": [
    "# Data Science Tools and Ecosystem\n"
   ]
  },
  {
   "cell_type": "markdown",
   "id": "2e8e2c5c-e372-4002-8770-5ff002bc794c",
   "metadata": {},
   "source": [
    "## Author:\n",
    "Diego Arteaga B."
   ]
  },
  {
   "cell_type": "markdown",
   "id": "f89d7a97-c3cc-46ce-876f-7e07ef39daf3",
   "metadata": {},
   "source": [
    "In this notebook, Data Science Tools and Ecosystem are summarized"
   ]
  },
  {
   "cell_type": "markdown",
   "id": "24c7008b-c202-4eb8-9f35-3012d7a3a041",
   "metadata": {},
   "source": [
    "**Objectives**:\n",
    "- List some popular languages for Data Science\n",
    "- List common libraries used for Data Science\n",
    "- Make a table showing some Data Science tools\n",
    "- Write some examples of simple arithmetic using Python\n",
    "\n"
   ]
  },
  {
   "cell_type": "markdown",
   "id": "43534428-c655-40b0-8e63-8dd9ac2f055a",
   "metadata": {},
   "source": [
    "Some of the popular languages that Data Scientists use are:\n",
    "1. Python\n",
    "2. R\n",
    "3. SQL\n",
    "4. Julia\n"
   ]
  },
  {
   "cell_type": "markdown",
   "id": "5b7f52b1-4f01-4398-ad50-c375588a937c",
   "metadata": {},
   "source": [
    "Some of the commonly used libraries used by Data Scientists include:\n",
    "1. Numpy\n",
    "2. Pandas\n",
    "3. Seaborn\n",
    "4. Plotly\n",
    "5. TensorFLow\n",
    "   \n"
   ]
  },
  {
   "cell_type": "markdown",
   "id": "af1dde96-f739-4448-b319-359aa3781b67",
   "metadata": {},
   "source": [
    "| Data Science Tools |\n",
    "|--------------------|\n",
    "| Jupyter|\n",
    "| Apache Spark|\n",
    "| RStudio |"
   ]
  },
  {
   "cell_type": "markdown",
   "id": "f4ac92c7-ac0f-4e58-8e02-bacc55475fd1",
   "metadata": {},
   "source": [
    "### Below are a few examples of evaluating arithmetic expressions in Python"
   ]
  },
  {
   "cell_type": "code",
   "execution_count": 13,
   "id": "a0b2e597-5073-4827-a6ac-bd2bd7c92e4c",
   "metadata": {},
   "outputs": [
    {
     "name": "stdout",
     "output_type": "stream",
     "text": [
      "2\n",
      "64\n",
      "243\n",
      "127\n"
     ]
    }
   ],
   "source": [
    "print(1+1)\n",
    "print(pow(4,3))\n",
    "print(3**5)\n",
    "print(4+123)"
   ]
  },
  {
   "cell_type": "code",
   "execution_count": 17,
   "id": "c5bf9f5e-5c63-4c71-817d-261f7281e03a",
   "metadata": {},
   "outputs": [
    {
     "data": {
      "text/plain": [
       "17"
      ]
     },
     "execution_count": 17,
     "metadata": {},
     "output_type": "execute_result"
    }
   ],
   "source": [
    " #This a simple arithmetic expression to mutiply then add integers\n",
    "(3*4)+5"
   ]
  },
  {
   "cell_type": "code",
   "execution_count": 19,
   "id": "5e6ca2c3-0e7d-4c9d-9b3b-af8105e70125",
   "metadata": {},
   "outputs": [
    {
     "name": "stdout",
     "output_type": "stream",
     "text": [
      "200 is equivalent to  3.3333333333333335 hours\n"
     ]
    }
   ],
   "source": [
    "# This will convert 200 minutes to hours by diving by 60\n",
    "min = 200\n",
    "mintohr = 60 \n",
    "print(min, \"is equivalent to \", min/mintohr, \"hours\")"
   ]
  },
  {
   "cell_type": "code",
   "execution_count": null,
   "id": "121cadda-a794-43ea-937e-24c5d22e09f4",
   "metadata": {},
   "outputs": [],
   "source": []
  }
 ],
 "metadata": {
  "kernelspec": {
   "display_name": "Python 3 (ipykernel)",
   "language": "python",
   "name": "python3"
  },
  "language_info": {
   "codemirror_mode": {
    "name": "ipython",
    "version": 3
   },
   "file_extension": ".py",
   "mimetype": "text/x-python",
   "name": "python",
   "nbconvert_exporter": "python",
   "pygments_lexer": "ipython3",
   "version": "3.12.7"
  }
 },
 "nbformat": 4,
 "nbformat_minor": 5
}
